# Q1

import pandas as pd
import matplotlib.pyplot as plt
import seaborn as sns

df = pd.read_csv('dados_produtividade_construcao.csv')
print(df.head())
df.info()
print("Colunas e tipos de dados:")
print(df.dtypes)


# Q3
print("Obras únicas:")
print(df['nome_obra'].unique())
print("Contagem de apropriações por obra:")
print(df.groupby('nome_obra')['produtividade'].count())
print("Estatísticas descritivas por obra:")
print(df.groupby('nome_obra')['produtividade'].describe())

plt.figure(figsize=(36,10))
sns.boxplot(x='nome_obra', y='produtividade', data=df)
plt.title("Boxplot da Produtividade por Obra")
plt.xlabel("nome_obra")
plt.ylabel("produtividade")
plt.xticks(rotation=57)
plt.show()

# nome_obra: Variável qualitativa nominal – representa o nome da obra, sem ordem específica.
# descricao: Variável qualitativa nominal – indica o bloco dentro da obra, sem hierarquia.
# produtividade: Variável quantitativa contínua – representa a produtividade, podendo assumir valores fracionários em um cenário real.

# Q4
print("Blocos únicos:")
print(df['descricao'].unique())
print("Contagem de apropriações por bloco:")
print(df.groupby('descricao')['produtividade'].count())
print("Estatísticas descritivas por bloco:")
print(df.groupby('descricao')['produtividade'].describe())

plt.figure(figsize=(36,10))
sns.boxplot(x='descricao', y='produtividade', data=df)
plt.title("Boxplot da Produtividade por Bloco")
plt.xlabel("descricao")
plt.ylabel("produtividade")
plt.xticks(rotation=57)
plt.show()

# Q5
for categoria in ['nome_obra', 'descricao']:
    print(f"\nMédia e Mediana por {categoria}:")
    print(df.groupby(categoria)['produtividade'].agg(['mean', 'median']))

variabilidade = df.groupby('descricao')['produtividade'].std()
print("\nDesvio Padrão por Bloco:")
print(variabilidade)

# Q6
variabilidade = df.groupby('descricao')['produtividade'].std()
print("\nDesvio Padrão por Bloco:")
print(variabilidade)
